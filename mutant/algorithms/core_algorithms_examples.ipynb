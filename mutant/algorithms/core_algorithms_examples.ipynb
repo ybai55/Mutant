{
 "cells": [
  {
   "cell_type": "code",
   "execution_count": 1,
   "id": "initial_id",
   "metadata": {},
   "outputs": [],
   "source": [
    "%load_ext autoreload\n",
    "%autoreload 2"
   ]
  },
  {
   "cell_type": "code",
   "execution_count": 2,
   "id": "bd950b3c-9a43-470e-ad32-86bb56e7ee5f",
   "metadata": {},
   "outputs": [],
   "source": [
    "import matplotlib.pyplot as plt"
   ]
  },
  {
   "cell_type": "code",
   "execution_count": 2,
   "id": "cc4ffe11-aa64-4dfb-a2b0-ac8a23720784",
   "metadata": {
    "ExecuteTime": {
     "end_time": "2024-04-07T07:49:36.972365Z",
     "start_time": "2024-04-07T07:49:36.264782Z"
    }
   },
   "outputs": [],
   "source": [
    "from mutant.db.clickhouse import Clickhouse\n",
    "from mutant.db.index.hnswlib import Hnswlib\n",
    "from mutant.config import Settings\n",
    "from mutant.algorithms.core_algorithms import *"
   ]
  },
  {
   "cell_type": "code",
   "execution_count": 3,
   "id": "bee4d6aa-d944-45f1-ae69-ad094c7f2b10",
   "metadata": {
    "ExecuteTime": {
     "end_time": "2024-04-07T07:50:07.180218Z",
     "start_time": "2024-04-07T07:50:02.773038Z"
    }
   },
   "outputs": [
    {
     "ename": "NetworkError",
     "evalue": "Code: 210. No connection could be made because the target machine actively refused it (None:9000)",
     "output_type": "error",
     "traceback": [
      "\u001B[1;31m---------------------------------------------------------------------------\u001B[0m",
      "\u001B[1;31mNetworkError\u001B[0m                              Traceback (most recent call last)",
      "Cell \u001B[1;32mIn[3], line 2\u001B[0m\n\u001B[0;32m      1\u001B[0m mutant_settings \u001B[38;5;241m=\u001B[39m Settings()\n\u001B[1;32m----> 2\u001B[0m db \u001B[38;5;241m=\u001B[39m \u001B[43mClickhouse\u001B[49m\u001B[43m(\u001B[49m\u001B[43mmutant_settings\u001B[49m\u001B[43m)\u001B[49m\n\u001B[0;32m      3\u001B[0m model_space \u001B[38;5;241m=\u001B[39m \u001B[38;5;124m\"\u001B[39m\u001B[38;5;124mdefault_scope\u001B[39m\u001B[38;5;124m\"\u001B[39m\n",
      "File \u001B[1;32mD:\\Projects\\vector_db\\Mutant\\mutant\\db\\clickhouse.py:76\u001B[0m, in \u001B[0;36mClickhouse.__init__\u001B[1;34m(self, settings)\u001B[0m\n\u001B[0;32m     74\u001B[0m \u001B[38;5;28;01mdef\u001B[39;00m \u001B[38;5;21m__init__\u001B[39m(\u001B[38;5;28mself\u001B[39m, settings):\n\u001B[0;32m     75\u001B[0m     \u001B[38;5;28mself\u001B[39m\u001B[38;5;241m.\u001B[39m_conn \u001B[38;5;241m=\u001B[39m Client(host\u001B[38;5;241m=\u001B[39msettings\u001B[38;5;241m.\u001B[39mclickhouse_host, port\u001B[38;5;241m=\u001B[39msettings\u001B[38;5;241m.\u001B[39mclickhouse_port)\n\u001B[1;32m---> 76\u001B[0m     \u001B[38;5;28;43mself\u001B[39;49m\u001B[38;5;241;43m.\u001B[39;49m\u001B[43m_create_table_embeddings\u001B[49m\u001B[43m(\u001B[49m\u001B[43m)\u001B[49m\n\u001B[0;32m     77\u001B[0m     \u001B[38;5;28mself\u001B[39m\u001B[38;5;241m.\u001B[39m_create_table_results()\n\u001B[0;32m     78\u001B[0m     \u001B[38;5;28mself\u001B[39m\u001B[38;5;241m.\u001B[39m_idx \u001B[38;5;241m=\u001B[39m Hnswlib(settings)\n",
      "File \u001B[1;32mD:\\Projects\\vector_db\\Mutant\\mutant\\db\\clickhouse.py:58\u001B[0m, in \u001B[0;36mClickhouse._create_table_embeddings\u001B[1;34m(self)\u001B[0m\n\u001B[0;32m     57\u001B[0m \u001B[38;5;28;01mdef\u001B[39;00m \u001B[38;5;21m_create_table_embeddings\u001B[39m(\u001B[38;5;28mself\u001B[39m):\n\u001B[1;32m---> 58\u001B[0m     \u001B[38;5;28;43mself\u001B[39;49m\u001B[38;5;241;43m.\u001B[39;49m\u001B[43m_conn\u001B[49m\u001B[38;5;241;43m.\u001B[39;49m\u001B[43mexecute\u001B[49m\u001B[43m(\u001B[49m\n\u001B[0;32m     59\u001B[0m \u001B[43m        \u001B[49m\u001B[38;5;124;43mf\u001B[39;49m\u001B[38;5;124;43m\"\"\"\u001B[39;49m\u001B[38;5;124;43mCREATE TABLE IF NOT EXISTS embeddings (\u001B[39;49m\n\u001B[0;32m     60\u001B[0m \u001B[38;5;124;43m        \u001B[39;49m\u001B[38;5;132;43;01m{\u001B[39;49;00m\u001B[43mdb_array_schema_to_clickhouse_schema\u001B[49m\u001B[43m(\u001B[49m\u001B[43mEMBEDDING_TABLE_SCHEMA\u001B[49m\u001B[43m)\u001B[49m\u001B[38;5;132;43;01m}\u001B[39;49;00m\n\u001B[0;32m     61\u001B[0m \u001B[38;5;124;43m    ) ENGINE = MergeTree() ORDER BY model_space\u001B[39;49m\u001B[38;5;124;43m\"\"\"\u001B[39;49m\n\u001B[0;32m     62\u001B[0m \u001B[43m    \u001B[49m\u001B[43m)\u001B[49m\n\u001B[0;32m     63\u001B[0m     \u001B[38;5;28mself\u001B[39m\u001B[38;5;241m.\u001B[39m_conn\u001B[38;5;241m.\u001B[39mexecute(\u001B[38;5;124mf\u001B[39m\u001B[38;5;124m\"\"\"\u001B[39m\u001B[38;5;124mSET allow_experimental_lightweight_delete = true\u001B[39m\u001B[38;5;124m\"\"\"\u001B[39m)\n\u001B[0;32m     64\u001B[0m     \u001B[38;5;66;03m# https://clickhouse.com/docs/en/operations/settings/settings/#mutations_sync\u001B[39;00m\n",
      "File \u001B[1;32mD:\\anaconda3\\envs\\mutant\\lib\\site-packages\\clickhouse_driver\\client.py:292\u001B[0m, in \u001B[0;36mClient.execute\u001B[1;34m(self, query, params, with_column_types, external_tables, query_id, settings, types_check, columnar)\u001B[0m\n\u001B[0;32m    249\u001B[0m \u001B[38;5;250m\u001B[39m\u001B[38;5;124;03m\"\"\"\u001B[39;00m\n\u001B[0;32m    250\u001B[0m \u001B[38;5;124;03mExecutes query.\u001B[39;00m\n\u001B[0;32m    251\u001B[0m \n\u001B[1;32m   (...)\u001B[0m\n\u001B[0;32m    287\u001B[0m \u001B[38;5;124;03m              and types.\u001B[39;00m\n\u001B[0;32m    288\u001B[0m \u001B[38;5;124;03m\"\"\"\u001B[39;00m\n\u001B[0;32m    290\u001B[0m start_time \u001B[38;5;241m=\u001B[39m time()\n\u001B[1;32m--> 292\u001B[0m \u001B[38;5;28;01mwith\u001B[39;00m \u001B[38;5;28mself\u001B[39m\u001B[38;5;241m.\u001B[39mdisconnect_on_error(query, settings):\n\u001B[0;32m    293\u001B[0m     \u001B[38;5;66;03m# INSERT queries can use list/tuple/generator of list/tuples/dicts.\u001B[39;00m\n\u001B[0;32m    294\u001B[0m     \u001B[38;5;66;03m# For SELECT parameters can be passed in only in dict right now.\u001B[39;00m\n\u001B[0;32m    295\u001B[0m     is_insert \u001B[38;5;241m=\u001B[39m \u001B[38;5;28misinstance\u001B[39m(params, (\u001B[38;5;28mlist\u001B[39m, \u001B[38;5;28mtuple\u001B[39m, types\u001B[38;5;241m.\u001B[39mGeneratorType))\n\u001B[0;32m    297\u001B[0m     \u001B[38;5;28;01mif\u001B[39;00m is_insert:\n",
      "File \u001B[1;32mD:\\anaconda3\\envs\\mutant\\lib\\contextlib.py:135\u001B[0m, in \u001B[0;36m_GeneratorContextManager.__enter__\u001B[1;34m(self)\u001B[0m\n\u001B[0;32m    133\u001B[0m \u001B[38;5;28;01mdel\u001B[39;00m \u001B[38;5;28mself\u001B[39m\u001B[38;5;241m.\u001B[39margs, \u001B[38;5;28mself\u001B[39m\u001B[38;5;241m.\u001B[39mkwds, \u001B[38;5;28mself\u001B[39m\u001B[38;5;241m.\u001B[39mfunc\n\u001B[0;32m    134\u001B[0m \u001B[38;5;28;01mtry\u001B[39;00m:\n\u001B[1;32m--> 135\u001B[0m     \u001B[38;5;28;01mreturn\u001B[39;00m \u001B[38;5;28;43mnext\u001B[39;49m\u001B[43m(\u001B[49m\u001B[38;5;28;43mself\u001B[39;49m\u001B[38;5;241;43m.\u001B[39;49m\u001B[43mgen\u001B[49m\u001B[43m)\u001B[49m\n\u001B[0;32m    136\u001B[0m \u001B[38;5;28;01mexcept\u001B[39;00m \u001B[38;5;167;01mStopIteration\u001B[39;00m:\n\u001B[0;32m    137\u001B[0m     \u001B[38;5;28;01mraise\u001B[39;00m \u001B[38;5;167;01mRuntimeError\u001B[39;00m(\u001B[38;5;124m\"\u001B[39m\u001B[38;5;124mgenerator didn\u001B[39m\u001B[38;5;124m'\u001B[39m\u001B[38;5;124mt yield\u001B[39m\u001B[38;5;124m\"\u001B[39m) \u001B[38;5;28;01mfrom\u001B[39;00m \u001B[38;5;28;01mNone\u001B[39;00m\n",
      "File \u001B[1;32mD:\\anaconda3\\envs\\mutant\\lib\\site-packages\\clickhouse_driver\\client.py:235\u001B[0m, in \u001B[0;36mClient.disconnect_on_error\u001B[1;34m(self, query, settings)\u001B[0m\n\u001B[0;32m    232\u001B[0m \u001B[38;5;28mself\u001B[39m\u001B[38;5;241m.\u001B[39mmake_query_settings(settings)\n\u001B[0;32m    234\u001B[0m \u001B[38;5;28;01mtry\u001B[39;00m:\n\u001B[1;32m--> 235\u001B[0m     \u001B[38;5;28;43mself\u001B[39;49m\u001B[38;5;241;43m.\u001B[39;49m\u001B[43mconnection\u001B[49m\u001B[38;5;241;43m.\u001B[39;49m\u001B[43mforce_connect\u001B[49m\u001B[43m(\u001B[49m\u001B[43m)\u001B[49m\n\u001B[0;32m    236\u001B[0m     \u001B[38;5;28mself\u001B[39m\u001B[38;5;241m.\u001B[39mlast_query \u001B[38;5;241m=\u001B[39m QueryInfo()\n\u001B[0;32m    238\u001B[0m     \u001B[38;5;28;01myield\u001B[39;00m\n",
      "File \u001B[1;32mD:\\anaconda3\\envs\\mutant\\lib\\site-packages\\clickhouse_driver\\connection.py:219\u001B[0m, in \u001B[0;36mConnection.force_connect\u001B[1;34m(self)\u001B[0m\n\u001B[0;32m    216\u001B[0m \u001B[38;5;28mself\u001B[39m\u001B[38;5;241m.\u001B[39mcheck_query_execution()\n\u001B[0;32m    218\u001B[0m \u001B[38;5;28;01mif\u001B[39;00m \u001B[38;5;129;01mnot\u001B[39;00m \u001B[38;5;28mself\u001B[39m\u001B[38;5;241m.\u001B[39mconnected:\n\u001B[1;32m--> 219\u001B[0m     \u001B[38;5;28;43mself\u001B[39;49m\u001B[38;5;241;43m.\u001B[39;49m\u001B[43mconnect\u001B[49m\u001B[43m(\u001B[49m\u001B[43m)\u001B[49m\n\u001B[0;32m    221\u001B[0m \u001B[38;5;28;01melif\u001B[39;00m \u001B[38;5;129;01mnot\u001B[39;00m \u001B[38;5;28mself\u001B[39m\u001B[38;5;241m.\u001B[39mping():\n\u001B[0;32m    222\u001B[0m     logger\u001B[38;5;241m.\u001B[39mwarning(\u001B[38;5;124m'\u001B[39m\u001B[38;5;124mConnection was closed, reconnecting.\u001B[39m\u001B[38;5;124m'\u001B[39m)\n",
      "File \u001B[1;32mD:\\anaconda3\\envs\\mutant\\lib\\site-packages\\clickhouse_driver\\connection.py:346\u001B[0m, in \u001B[0;36mConnection.connect\u001B[1;34m(self)\u001B[0m\n\u001B[0;32m    343\u001B[0m     \u001B[38;5;28mself\u001B[39m\u001B[38;5;241m.\u001B[39mhosts\u001B[38;5;241m.\u001B[39mrotate(\u001B[38;5;241m-\u001B[39m\u001B[38;5;241m1\u001B[39m)\n\u001B[0;32m    345\u001B[0m \u001B[38;5;28;01mif\u001B[39;00m err \u001B[38;5;129;01mis\u001B[39;00m \u001B[38;5;129;01mnot\u001B[39;00m \u001B[38;5;28;01mNone\u001B[39;00m:\n\u001B[1;32m--> 346\u001B[0m     \u001B[38;5;28;01mraise\u001B[39;00m err\n",
      "\u001B[1;31mNetworkError\u001B[0m: Code: 210. No connection could be made because the target machine actively refused it (None:9000)"
     ]
    }
   ],
   "source": [
    "mutant_settings = Settings()\n",
    "db = Clickhouse(mutant_settings)\n",
    "model_space = \"default_scope\"\n",
    "\n",
    "# TODO: finish this example. "
   ]
  },
  {
   "cell_type": "code",
   "outputs": [],
   "source": [],
   "metadata": {
    "collapsed": false
   },
   "id": "d2ebaac006c9bf95"
  }
 ],
 "metadata": {
  "kernelspec": {
   "display_name": "Python 3 (ipykernel)",
   "language": "python",
   "name": "python3"
  },
  "language_info": {
   "codemirror_mode": {
    "name": "ipython",
    "version": 3
   },
   "file_extension": ".py",
   "mimetype": "text/x-python",
   "name": "python",
   "nbconvert_exporter": "python",
   "pygments_lexer": "ipython3",
   "version": "3.10.14"
  }
 },
 "nbformat": 4,
 "nbformat_minor": 5
}
