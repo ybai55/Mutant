{
 "cells": [
  {
   "cell_type": "code",
   "execution_count": null,
   "id": "initial_id",
   "metadata": {
    "collapsed": true
   },
   "outputs": [],
   "source": [
    "import os\n",
    "import json\n",
    "os.environ['MUTANT_MODE'] = 'in-memory'\n",
    "from mutant_server.api import core as mutant_core, AddEmbedding, FetchEmbedding, ProcessEmbedding, QueryEmbedding\n",
    "\n",
    "# app = app\n",
    "new_embedding = AddEmbedding(\n",
    "    embedding = [[1,2,3,4,5,6,7,8,9,10]],\n",
    "    model_space = 'test',\n",
    "    dataset = 'test',\n",
    "    input_uri = 'asdf.png',\n",
    "    inference_class = 'test',\n",
    "    label_class = 'test'\n",
    ")\n",
    "\n",
    "print(await mutant_core.add(new_embedding))\n",
    "print(await mutant_core.count(model_space=\"test\"))\n",
    "\n",
    "print(await mutant_core.fetch(FetchEmbedding(where={\"model_space\": \"test\"})))\n",
    "\n",
    "await mutant_core.create_index(ProcessEmbedding(model_space=\"test\"))\n",
    "\n",
    "print(await mutant_core.get_nearest_neighbors(QueryEmbedding(embedding=[[1,2,3,4,5,6,7,8,9,10]], n_results=10, where={\"model_space\": \"test\"})))"
   ]
  }
 ],
 "metadata": {
  "kernelspec": {
   "display_name": "Python 3",
   "language": "python",
   "name": "python3"
  },
  "language_info": {
   "codemirror_mode": {
    "name": "ipython",
    "version": 2
   },
   "file_extension": ".py",
   "mimetype": "text/x-python",
   "name": "python",
   "nbconvert_exporter": "python",
   "pygments_lexer": "ipython2",
   "version": "2.7.6"
  }
 },
 "nbformat": 4,
 "nbformat_minor": 5
}
